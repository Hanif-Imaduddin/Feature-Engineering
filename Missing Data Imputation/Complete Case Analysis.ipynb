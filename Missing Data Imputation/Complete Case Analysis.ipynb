{
 "cells": [
  {
   "cell_type": "code",
   "execution_count": 1,
   "id": "e2594619-8e7f-4a3d-bda7-658d608684f4",
   "metadata": {},
   "outputs": [],
   "source": [
    "import numpy as np\n",
    "import pandas as pd\n",
    "import matplotlib.pyplot as plt\n",
    "import matplotlib_inline.backend_inline\n",
    "matplotlib_inline.backend_inline.set_matplotlib_formats('svg')"
   ]
  },
  {
   "cell_type": "code",
   "execution_count": 3,
   "id": "fb86f350-0ed1-4df8-94b5-e232047b9faf",
   "metadata": {},
   "outputs": [],
   "source": [
    "df = pd.read_csv('../../../Datasets/Apartement Rent Data/apartments_for_rent_classified_100K/apartments_for_rent_classified_100K.csv',\n",
    "                 sep=';',\n",
    "                 encoding='cp1252',\n",
    "                low_memory=False)"
   ]
  },
  {
   "cell_type": "code",
   "execution_count": 12,
   "id": "d2823557-7021-4e8f-a1ce-6fefdab6bb6d",
   "metadata": {},
   "outputs": [],
   "source": [
    "na_mean = df.isna().mean()\n",
    "cca_cols = na_mean[(na_mean < 0.05) & (na_mean > 0)].index"
   ]
  },
  {
   "cell_type": "code",
   "execution_count": 13,
   "id": "2c774a12-2d7e-4408-a813-5b381c6cce2e",
   "metadata": {},
   "outputs": [
    {
     "data": {
      "text/plain": [
       "Index(['bathrooms', 'bedrooms', 'price', 'price_display', 'cityname', 'state',\n",
       "       'latitude', 'longitude'],\n",
       "      dtype='object')"
      ]
     },
     "execution_count": 13,
     "metadata": {},
     "output_type": "execute_result"
    }
   ],
   "source": [
    "cca_cols"
   ]
  },
  {
   "cell_type": "code",
   "execution_count": 16,
   "id": "fb894e46-fab4-4cc0-8bbb-7c2748e4ee1f",
   "metadata": {},
   "outputs": [
    {
     "data": {
      "text/html": [
       "<div>\n",
       "<style scoped>\n",
       "    .dataframe tbody tr th:only-of-type {\n",
       "        vertical-align: middle;\n",
       "    }\n",
       "\n",
       "    .dataframe tbody tr th {\n",
       "        vertical-align: top;\n",
       "    }\n",
       "\n",
       "    .dataframe thead th {\n",
       "        text-align: right;\n",
       "    }\n",
       "</style>\n",
       "<table border=\"1\" class=\"dataframe\">\n",
       "  <thead>\n",
       "    <tr style=\"text-align: right;\">\n",
       "      <th></th>\n",
       "      <th>bathrooms</th>\n",
       "      <th>bedrooms</th>\n",
       "      <th>price</th>\n",
       "      <th>price_display</th>\n",
       "      <th>cityname</th>\n",
       "      <th>state</th>\n",
       "      <th>latitude</th>\n",
       "      <th>longitude</th>\n",
       "    </tr>\n",
       "  </thead>\n",
       "  <tbody>\n",
       "    <tr>\n",
       "      <th>0</th>\n",
       "      <td>1.0</td>\n",
       "      <td>1.0</td>\n",
       "      <td>2195.0</td>\n",
       "      <td>$2,195</td>\n",
       "      <td>Redondo Beach</td>\n",
       "      <td>CA</td>\n",
       "      <td>33.8520</td>\n",
       "      <td>-118.3759</td>\n",
       "    </tr>\n",
       "    <tr>\n",
       "      <th>1</th>\n",
       "      <td>1.5</td>\n",
       "      <td>3.0</td>\n",
       "      <td>1250.0</td>\n",
       "      <td>$1,250</td>\n",
       "      <td>Newport News</td>\n",
       "      <td>VA</td>\n",
       "      <td>37.0867</td>\n",
       "      <td>-76.4941</td>\n",
       "    </tr>\n",
       "    <tr>\n",
       "      <th>2</th>\n",
       "      <td>2.0</td>\n",
       "      <td>3.0</td>\n",
       "      <td>1395.0</td>\n",
       "      <td>$1,395</td>\n",
       "      <td>Raleigh</td>\n",
       "      <td>NC</td>\n",
       "      <td>35.8230</td>\n",
       "      <td>-78.6438</td>\n",
       "    </tr>\n",
       "    <tr>\n",
       "      <th>3</th>\n",
       "      <td>1.0</td>\n",
       "      <td>2.0</td>\n",
       "      <td>1600.0</td>\n",
       "      <td>$1,600</td>\n",
       "      <td>Vacaville</td>\n",
       "      <td>CA</td>\n",
       "      <td>38.3622</td>\n",
       "      <td>-121.9712</td>\n",
       "    </tr>\n",
       "    <tr>\n",
       "      <th>4</th>\n",
       "      <td>1.0</td>\n",
       "      <td>1.0</td>\n",
       "      <td>975.0</td>\n",
       "      <td>$975</td>\n",
       "      <td>Albuquerque</td>\n",
       "      <td>NM</td>\n",
       "      <td>35.1038</td>\n",
       "      <td>-106.6110</td>\n",
       "    </tr>\n",
       "    <tr>\n",
       "      <th>...</th>\n",
       "      <td>...</td>\n",
       "      <td>...</td>\n",
       "      <td>...</td>\n",
       "      <td>...</td>\n",
       "      <td>...</td>\n",
       "      <td>...</td>\n",
       "      <td>...</td>\n",
       "      <td>...</td>\n",
       "    </tr>\n",
       "    <tr>\n",
       "      <th>99487</th>\n",
       "      <td>1.0</td>\n",
       "      <td>1.0</td>\n",
       "      <td>780.0</td>\n",
       "      <td>$780</td>\n",
       "      <td>Houston</td>\n",
       "      <td>TX</td>\n",
       "      <td>29.6151</td>\n",
       "      <td>-95.1998</td>\n",
       "    </tr>\n",
       "    <tr>\n",
       "      <th>99488</th>\n",
       "      <td>2.0</td>\n",
       "      <td>2.0</td>\n",
       "      <td>813.0</td>\n",
       "      <td>$813</td>\n",
       "      <td>Jacksonville</td>\n",
       "      <td>FL</td>\n",
       "      <td>30.2254</td>\n",
       "      <td>-81.7579</td>\n",
       "    </tr>\n",
       "    <tr>\n",
       "      <th>99489</th>\n",
       "      <td>1.0</td>\n",
       "      <td>1.0</td>\n",
       "      <td>1325.0</td>\n",
       "      <td>$1,325</td>\n",
       "      <td>San Diego</td>\n",
       "      <td>CA</td>\n",
       "      <td>32.7379</td>\n",
       "      <td>-117.0914</td>\n",
       "    </tr>\n",
       "    <tr>\n",
       "      <th>99490</th>\n",
       "      <td>1.0</td>\n",
       "      <td>1.0</td>\n",
       "      <td>931.0</td>\n",
       "      <td>$931</td>\n",
       "      <td>Huntersville</td>\n",
       "      <td>NC</td>\n",
       "      <td>35.4158</td>\n",
       "      <td>-80.8451</td>\n",
       "    </tr>\n",
       "    <tr>\n",
       "      <th>99491</th>\n",
       "      <td>1.5</td>\n",
       "      <td>2.0</td>\n",
       "      <td>1595.0</td>\n",
       "      <td>$1,595</td>\n",
       "      <td>San Diego</td>\n",
       "      <td>CA</td>\n",
       "      <td>32.7379</td>\n",
       "      <td>-117.0914</td>\n",
       "    </tr>\n",
       "  </tbody>\n",
       "</table>\n",
       "<p>99492 rows × 8 columns</p>\n",
       "</div>"
      ],
      "text/plain": [
       "       bathrooms  bedrooms   price price_display       cityname state  \\\n",
       "0            1.0       1.0  2195.0        $2,195  Redondo Beach    CA   \n",
       "1            1.5       3.0  1250.0        $1,250   Newport News    VA   \n",
       "2            2.0       3.0  1395.0        $1,395        Raleigh    NC   \n",
       "3            1.0       2.0  1600.0        $1,600      Vacaville    CA   \n",
       "4            1.0       1.0   975.0          $975    Albuquerque    NM   \n",
       "...          ...       ...     ...           ...            ...   ...   \n",
       "99487        1.0       1.0   780.0          $780        Houston    TX   \n",
       "99488        2.0       2.0   813.0          $813   Jacksonville    FL   \n",
       "99489        1.0       1.0  1325.0        $1,325      San Diego    CA   \n",
       "99490        1.0       1.0   931.0          $931   Huntersville    NC   \n",
       "99491        1.5       2.0  1595.0        $1,595      San Diego    CA   \n",
       "\n",
       "       latitude  longitude  \n",
       "0       33.8520  -118.3759  \n",
       "1       37.0867   -76.4941  \n",
       "2       35.8230   -78.6438  \n",
       "3       38.3622  -121.9712  \n",
       "4       35.1038  -106.6110  \n",
       "...         ...        ...  \n",
       "99487   29.6151   -95.1998  \n",
       "99488   30.2254   -81.7579  \n",
       "99489   32.7379  -117.0914  \n",
       "99490   35.4158   -80.8451  \n",
       "99491   32.7379  -117.0914  \n",
       "\n",
       "[99492 rows x 8 columns]"
      ]
     },
     "execution_count": 16,
     "metadata": {},
     "output_type": "execute_result"
    }
   ],
   "source": [
    "df[cca_cols]"
   ]
  },
  {
   "cell_type": "markdown",
   "id": "eb738ef4-b439-4163-973f-35d173831682",
   "metadata": {},
   "source": [
    "## Cara 1"
   ]
  },
  {
   "cell_type": "code",
   "execution_count": 21,
   "id": "dabd8ed7-a475-4392-9a66-f4017a35452f",
   "metadata": {},
   "outputs": [],
   "source": [
    "df_t = df.dropna(subset=cca_cols)"
   ]
  },
  {
   "cell_type": "code",
   "execution_count": 22,
   "id": "81a523f8-0b7f-4dd6-8481-27f4c94aa33a",
   "metadata": {},
   "outputs": [
    {
     "data": {
      "text/plain": [
       "485"
      ]
     },
     "execution_count": 22,
     "metadata": {},
     "output_type": "execute_result"
    }
   ],
   "source": [
    "df.shape[0]-df_t.shape[0]"
   ]
  },
  {
   "cell_type": "markdown",
   "id": "f40cd59a-6f8d-4ed8-a481-e847af51c593",
   "metadata": {},
   "source": [
    "## Cara 2\n",
    "Drop ketika NA di semua column"
   ]
  },
  {
   "cell_type": "code",
   "execution_count": 23,
   "id": "702a45d1-ddc8-4250-ba16-38ad52811b1b",
   "metadata": {},
   "outputs": [],
   "source": [
    "df_t = df.dropna(how='all')"
   ]
  },
  {
   "cell_type": "code",
   "execution_count": 24,
   "id": "c0ac4e85-23aa-40b2-805e-274ac53f0660",
   "metadata": {},
   "outputs": [
    {
     "data": {
      "text/plain": [
       "0"
      ]
     },
     "execution_count": 24,
     "metadata": {},
     "output_type": "execute_result"
    }
   ],
   "source": [
    "df.shape[0]-df_t.shape[0]"
   ]
  }
 ],
 "metadata": {
  "kernelspec": {
   "display_name": "Python 3 (ipykernel)",
   "language": "python",
   "name": "python3"
  },
  "language_info": {
   "codemirror_mode": {
    "name": "ipython",
    "version": 3
   },
   "file_extension": ".py",
   "mimetype": "text/x-python",
   "name": "python",
   "nbconvert_exporter": "python",
   "pygments_lexer": "ipython3",
   "version": "3.12.3"
  }
 },
 "nbformat": 4,
 "nbformat_minor": 5
}
