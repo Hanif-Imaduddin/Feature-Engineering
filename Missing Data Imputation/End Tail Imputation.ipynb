{
 "cells": [
  {
   "cell_type": "code",
   "execution_count": 1,
   "id": "4fb1db8d-cf83-44df-a5ee-4e229cb7046d",
   "metadata": {},
   "outputs": [],
   "source": [
    "import numpy as np\n",
    "import pandas as pd\n",
    "import matplotlib.pyplot as plt\n",
    "import matplotlib_inline.backend_inline\n",
    "matplotlib_inline.backend_inline.set_matplotlib_formats('svg')"
   ]
  },
  {
   "cell_type": "code",
   "execution_count": 2,
   "id": "294076f3-f69d-40eb-819a-a7495fe8bad5",
   "metadata": {},
   "outputs": [],
   "source": [
    "df = pd.read_csv('../../../Datasets/Apartement Rent Data/apartments_for_rent_classified_100K/apartments_for_rent_classified_100K.csv',\n",
    "                 sep=';',\n",
    "                 encoding='cp1252',\n",
    "                low_memory=False)"
   ]
  },
  {
   "cell_type": "code",
   "execution_count": 3,
   "id": "0ab04721-eb4a-442b-8ec1-c1845fc46fa9",
   "metadata": {},
   "outputs": [
    {
     "name": "stdout",
     "output_type": "stream",
     "text": [
      "<class 'pandas.core.frame.DataFrame'>\n",
      "RangeIndex: 99492 entries, 0 to 99491\n",
      "Data columns (total 22 columns):\n",
      " #   Column         Non-Null Count  Dtype  \n",
      "---  ------         --------------  -----  \n",
      " 0   id             99492 non-null  int64  \n",
      " 1   category       99492 non-null  object \n",
      " 2   title          99492 non-null  object \n",
      " 3   body           99492 non-null  object \n",
      " 4   amenities      83448 non-null  object \n",
      " 5   bathrooms      99429 non-null  float64\n",
      " 6   bedrooms       99368 non-null  float64\n",
      " 7   currency       99492 non-null  object \n",
      " 8   fee            99492 non-null  object \n",
      " 9   has_photo      99492 non-null  object \n",
      " 10  pets_allowed   39068 non-null  object \n",
      " 11  price          99491 non-null  float64\n",
      " 12  price_display  99491 non-null  object \n",
      " 13  price_type     99492 non-null  object \n",
      " 14  square_feet    99492 non-null  int64  \n",
      " 15  address        7943 non-null   object \n",
      " 16  cityname       99190 non-null  object \n",
      " 17  state          99190 non-null  object \n",
      " 18  latitude       99467 non-null  float64\n",
      " 19  longitude      99467 non-null  float64\n",
      " 20  source         99492 non-null  object \n",
      " 21  time           99492 non-null  int64  \n",
      "dtypes: float64(5), int64(3), object(14)\n",
      "memory usage: 16.7+ MB\n"
     ]
    }
   ],
   "source": [
    "df.info()"
   ]
  },
  {
   "cell_type": "code",
   "execution_count": 4,
   "id": "9a29fb52-2fbb-4b40-9ac4-14ff57281019",
   "metadata": {},
   "outputs": [],
   "source": [
    "eti_cols = ['bathrooms','bedrooms','square_feet']"
   ]
  },
  {
   "cell_type": "code",
   "execution_count": 5,
   "id": "77835245-d8ca-43ac-bbde-25b18421d8c8",
   "metadata": {},
   "outputs": [],
   "source": [
    "df = df[eti_cols]"
   ]
  },
  {
   "cell_type": "markdown",
   "id": "09da267a-5b06-4b6f-a5f9-9f3641c1535d",
   "metadata": {},
   "source": [
    "## Interquartile Range"
   ]
  },
  {
   "cell_type": "code",
   "execution_count": 6,
   "id": "670dbdc0-7151-4e3c-8672-041b6700aeba",
   "metadata": {},
   "outputs": [],
   "source": [
    "IQR = df.quantile(0.75) - df.quantile(0.25)\n",
    "\n",
    "end_tail = (df.quantile(0.75) + 3 * IQR).to_dict()"
   ]
  },
  {
   "cell_type": "code",
   "execution_count": 7,
   "id": "73ff7f87-66a7-40e7-bbab-d64b567dd1b8",
   "metadata": {},
   "outputs": [
    {
     "data": {
      "text/plain": [
       "{'bathrooms': 5.0, 'bedrooms': 5.0, 'square_feet': 2273.0}"
      ]
     },
     "execution_count": 7,
     "metadata": {},
     "output_type": "execute_result"
    }
   ],
   "source": [
    "end_tail"
   ]
  },
  {
   "cell_type": "code",
   "execution_count": 8,
   "id": "7330e974-4656-4d9c-baa7-349352fd8e27",
   "metadata": {},
   "outputs": [],
   "source": [
    "df_t = df.fillna(end_tail)"
   ]
  },
  {
   "cell_type": "markdown",
   "id": "b22ba418-b082-41cc-b749-f394cb0c8711",
   "metadata": {},
   "source": [
    "## Mean and STD"
   ]
  },
  {
   "cell_type": "code",
   "execution_count": 11,
   "id": "5068ff27-9621-4429-8f0b-368406dfc584",
   "metadata": {},
   "outputs": [],
   "source": [
    "end_tail = (df.mean() + 3*df.std()).astype(int).to_dict()"
   ]
  },
  {
   "cell_type": "code",
   "execution_count": 12,
   "id": "c1ceb4c7-4554-41af-a2cb-bec5a227017c",
   "metadata": {},
   "outputs": [
    {
     "data": {
      "text/plain": [
       "{'bathrooms': 3, 'bedrooms': 3, 'square_feet': 2209}"
      ]
     },
     "execution_count": 12,
     "metadata": {},
     "output_type": "execute_result"
    }
   ],
   "source": [
    "end_tail"
   ]
  },
  {
   "cell_type": "code",
   "execution_count": 13,
   "id": "d5113d44-38d3-4a32-b204-bb5c7f4514ec",
   "metadata": {},
   "outputs": [],
   "source": [
    "df_t = df.fillna(end_tail)"
   ]
  }
 ],
 "metadata": {
  "kernelspec": {
   "display_name": "Python 3 (ipykernel)",
   "language": "python",
   "name": "python3"
  },
  "language_info": {
   "codemirror_mode": {
    "name": "ipython",
    "version": 3
   },
   "file_extension": ".py",
   "mimetype": "text/x-python",
   "name": "python",
   "nbconvert_exporter": "python",
   "pygments_lexer": "ipython3",
   "version": "3.12.3"
  }
 },
 "nbformat": 4,
 "nbformat_minor": 5
}
