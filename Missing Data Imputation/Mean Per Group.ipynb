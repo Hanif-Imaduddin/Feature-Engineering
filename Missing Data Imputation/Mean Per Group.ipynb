{
 "cells": [
  {
   "cell_type": "code",
   "execution_count": 1,
   "id": "03964b20-ca98-4d3f-8447-6c4b01fc6a7c",
   "metadata": {},
   "outputs": [],
   "source": [
    "import numpy as np\n",
    "import pandas as pd\n",
    "import matplotlib.pyplot as plt\n",
    "import matplotlib_inline.backend_inline\n",
    "matplotlib_inline.backend_inline.set_matplotlib_formats('svg')"
   ]
  },
  {
   "cell_type": "code",
   "execution_count": 2,
   "id": "f4f65ccc-a1e4-4462-bcd5-a0c8ae1df900",
   "metadata": {},
   "outputs": [],
   "source": [
    "df = pd.read_csv('../../../Datasets/Apartement Rent Data/apartments_for_rent_classified_100K/apartments_for_rent_classified_100K.csv',\n",
    "                 sep=';',\n",
    "                 encoding='cp1252',\n",
    "                low_memory=False)"
   ]
  },
  {
   "cell_type": "code",
   "execution_count": 3,
   "id": "f9719611-ef94-4013-971f-926f54e3ac88",
   "metadata": {},
   "outputs": [
    {
     "name": "stdout",
     "output_type": "stream",
     "text": [
      "<class 'pandas.core.frame.DataFrame'>\n",
      "RangeIndex: 99492 entries, 0 to 99491\n",
      "Data columns (total 22 columns):\n",
      " #   Column         Non-Null Count  Dtype  \n",
      "---  ------         --------------  -----  \n",
      " 0   id             99492 non-null  int64  \n",
      " 1   category       99492 non-null  object \n",
      " 2   title          99492 non-null  object \n",
      " 3   body           99492 non-null  object \n",
      " 4   amenities      83448 non-null  object \n",
      " 5   bathrooms      99429 non-null  float64\n",
      " 6   bedrooms       99368 non-null  float64\n",
      " 7   currency       99492 non-null  object \n",
      " 8   fee            99492 non-null  object \n",
      " 9   has_photo      99492 non-null  object \n",
      " 10  pets_allowed   39068 non-null  object \n",
      " 11  price          99491 non-null  float64\n",
      " 12  price_display  99491 non-null  object \n",
      " 13  price_type     99492 non-null  object \n",
      " 14  square_feet    99492 non-null  int64  \n",
      " 15  address        7943 non-null   object \n",
      " 16  cityname       99190 non-null  object \n",
      " 17  state          99190 non-null  object \n",
      " 18  latitude       99467 non-null  float64\n",
      " 19  longitude      99467 non-null  float64\n",
      " 20  source         99492 non-null  object \n",
      " 21  time           99492 non-null  int64  \n",
      "dtypes: float64(5), int64(3), object(14)\n",
      "memory usage: 16.7+ MB\n"
     ]
    }
   ],
   "source": [
    "df.info()"
   ]
  },
  {
   "cell_type": "code",
   "execution_count": 4,
   "id": "80b6eb7c-2447-4c05-b53a-a088411c06b3",
   "metadata": {},
   "outputs": [],
   "source": [
    "df = df[['bathrooms','bedrooms']]"
   ]
  },
  {
   "cell_type": "code",
   "execution_count": 6,
   "id": "f60175b9-36b8-48ba-910d-3e8d7ef5b956",
   "metadata": {},
   "outputs": [],
   "source": [
    "df.dropna(subset='bathrooms',inplace=True)"
   ]
  },
  {
   "cell_type": "code",
   "execution_count": 16,
   "id": "0d77ac79-2fd1-4bcb-a01d-35dbaeba4303",
   "metadata": {},
   "outputs": [],
   "source": [
    "bedrooms_dict = df.groupby('bathrooms').mean()['bedrooms'].to_dict()"
   ]
  },
  {
   "cell_type": "code",
   "execution_count": 17,
   "id": "e0fc05d3-8c77-4a41-968c-c44ee8cd5e9a",
   "metadata": {},
   "outputs": [],
   "source": [
    "bedrooms_na = df.bedrooms.isna()"
   ]
  },
  {
   "cell_type": "code",
   "execution_count": 19,
   "id": "7daa186d-85cb-4101-ad7a-5513b0243cd8",
   "metadata": {},
   "outputs": [],
   "source": [
    "df.loc[bedrooms_na,'bedrooms'] = df.loc[bedrooms_na,'bathrooms'].map(bedrooms_dict)"
   ]
  },
  {
   "cell_type": "code",
   "execution_count": null,
   "id": "79aa1d49-c5a0-4a05-9d68-f4cef0a9c31d",
   "metadata": {},
   "outputs": [],
   "source": [
    "df[bedro]"
   ]
  }
 ],
 "metadata": {
  "kernelspec": {
   "display_name": "Python 3 (ipykernel)",
   "language": "python",
   "name": "python3"
  },
  "language_info": {
   "codemirror_mode": {
    "name": "ipython",
    "version": 3
   },
   "file_extension": ".py",
   "mimetype": "text/x-python",
   "name": "python",
   "nbconvert_exporter": "python",
   "pygments_lexer": "ipython3",
   "version": "3.12.3"
  }
 },
 "nbformat": 4,
 "nbformat_minor": 5
}
