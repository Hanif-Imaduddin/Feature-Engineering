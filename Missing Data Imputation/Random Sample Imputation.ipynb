{
 "cells": [
  {
   "cell_type": "code",
   "execution_count": 1,
   "id": "8100401b-8b89-4a51-a082-c074a993e8d2",
   "metadata": {},
   "outputs": [],
   "source": [
    "import numpy as np\n",
    "import pandas as pd\n",
    "import matplotlib.pyplot as plt\n",
    "import matplotlib_inline.backend_inline\n",
    "matplotlib_inline.backend_inline.set_matplotlib_formats('svg')"
   ]
  },
  {
   "cell_type": "code",
   "execution_count": 2,
   "id": "4c5cfde4-97f0-4a33-b586-c27aa79f31e5",
   "metadata": {},
   "outputs": [],
   "source": [
    "df = pd.read_csv('../../../Datasets/Apartement Rent Data/apartments_for_rent_classified_100K/apartments_for_rent_classified_100K.csv',\n",
    "                 sep=';',\n",
    "                 encoding='cp1252',\n",
    "                low_memory=False)"
   ]
  },
  {
   "cell_type": "code",
   "execution_count": 15,
   "id": "02637b86-72ed-46a6-b0e2-7f8a2d44e5f1",
   "metadata": {},
   "outputs": [],
   "source": [
    "df.dropna(subset='bathrooms',inplace=True)"
   ]
  },
  {
   "cell_type": "code",
   "execution_count": 14,
   "id": "eebebb97-5d03-4942-b73a-4c6c8df36b2a",
   "metadata": {},
   "outputs": [
    {
     "data": {
      "text/plain": [
       "1.0"
      ]
     },
     "execution_count": 14,
     "metadata": {},
     "output_type": "execute_result"
    }
   ],
   "source": [
    "df.loc[0,'bathrooms']"
   ]
  },
  {
   "cell_type": "code",
   "execution_count": 47,
   "id": "42d6d4c6-3d02-40b0-b8fb-cb50105fbed7",
   "metadata": {},
   "outputs": [
    {
     "data": {
      "text/plain": [
       "2.0"
      ]
     },
     "execution_count": 47,
     "metadata": {},
     "output_type": "execute_result"
    }
   ],
   "source": [
    "df.bedrooms.dropna().sample(1,random_state=0).iloc[0]"
   ]
  },
  {
   "cell_type": "code",
   "execution_count": 27,
   "id": "5fa09b22-a3e8-4301-9dab-ac7807c61696",
   "metadata": {
    "scrolled": true
   },
   "outputs": [
    {
     "data": {
      "text/plain": [
       "790      2\n",
       "1653     3\n",
       "5024     2\n",
       "7212     1\n",
       "7280     1\n",
       "        ..\n",
       "96832    1\n",
       "96851    1\n",
       "97943    1\n",
       "98703    1\n",
       "99416    1\n",
       "Name: bathrooms, Length: 123, dtype: int64"
      ]
     },
     "execution_count": 27,
     "metadata": {},
     "output_type": "execute_result"
    }
   ],
   "source": [
    "df[df.bedrooms.isna()]['bathrooms'].apply(lambda x: df.bedrooms)"
   ]
  },
  {
   "cell_type": "code",
   "execution_count": 54,
   "id": "3b7051dc-ccdd-4b36-a518-bdcc4351382a",
   "metadata": {},
   "outputs": [
    {
     "name": "stdout",
     "output_type": "stream",
     "text": [
      "<class 'pandas.core.frame.DataFrame'>\n",
      "Index: 99429 entries, 0 to 99491\n",
      "Data columns (total 22 columns):\n",
      " #   Column         Non-Null Count  Dtype  \n",
      "---  ------         --------------  -----  \n",
      " 0   id             99429 non-null  int64  \n",
      " 1   category       99429 non-null  object \n",
      " 2   title          99429 non-null  object \n",
      " 3   body           99429 non-null  object \n",
      " 4   amenities      83426 non-null  object \n",
      " 5   bathrooms      99429 non-null  float64\n",
      " 6   bedrooms       99429 non-null  float64\n",
      " 7   currency       99429 non-null  object \n",
      " 8   fee            99429 non-null  object \n",
      " 9   has_photo      99429 non-null  object \n",
      " 10  pets_allowed   39052 non-null  object \n",
      " 11  price          99428 non-null  float64\n",
      " 12  price_display  99428 non-null  object \n",
      " 13  price_type     99429 non-null  object \n",
      " 14  square_feet    99429 non-null  int64  \n",
      " 15  address        7912 non-null   object \n",
      " 16  cityname       99131 non-null  object \n",
      " 17  state          99131 non-null  object \n",
      " 18  latitude       99404 non-null  float64\n",
      " 19  longitude      99404 non-null  float64\n",
      " 20  source         99429 non-null  object \n",
      " 21  time           99429 non-null  int64  \n",
      "dtypes: float64(5), int64(3), object(14)\n",
      "memory usage: 17.4+ MB\n"
     ]
    }
   ],
   "source": [
    "df.info()"
   ]
  },
  {
   "cell_type": "code",
   "execution_count": 55,
   "id": "8bbec20c-5b8d-4378-8add-4d691d9747cc",
   "metadata": {},
   "outputs": [
    {
     "data": {
      "text/plain": [
       "id               0.000000\n",
       "category         0.000000\n",
       "title            0.000000\n",
       "body             0.000000\n",
       "amenities        0.160949\n",
       "bathrooms        0.000000\n",
       "bedrooms         0.000000\n",
       "currency         0.000000\n",
       "fee              0.000000\n",
       "has_photo        0.000000\n",
       "pets_allowed     0.607237\n",
       "price            0.000010\n",
       "price_display    0.000010\n",
       "price_type       0.000000\n",
       "square_feet      0.000000\n",
       "address          0.920426\n",
       "cityname         0.002997\n",
       "state            0.002997\n",
       "latitude         0.000251\n",
       "longitude        0.000251\n",
       "source           0.000000\n",
       "time             0.000000\n",
       "dtype: float64"
      ]
     },
     "execution_count": 55,
     "metadata": {},
     "output_type": "execute_result"
    }
   ],
   "source": [
    "df.isna().mean()"
   ]
  },
  {
   "cell_type": "code",
   "execution_count": 49,
   "id": "00c39061-5be6-42b4-8f4c-e40bc88356df",
   "metadata": {},
   "outputs": [],
   "source": [
    "df.loc[df.bedrooms.isna(),'bedrooms'] = df[df.bedrooms.isna()]['bathrooms'].apply(lambda x:\n",
    "                                                                              df.bedrooms.dropna().sample(1,random_state=int(x)).iloc[0])"
   ]
  },
  {
   "cell_type": "code",
   "execution_count": 53,
   "id": "c79a1a8f-4d2b-4b4b-ba74-1dac02a2954b",
   "metadata": {},
   "outputs": [],
   "source": [
    "def random_sample_imputation(df,col_name):\n",
    "    df.loc[df[col_name].isna(),col_name] = df[df[col_name].isna()]['bathrooms'].apply(lambda x:\n",
    "                                                                                    df[col_name].dropna().sample(1,random_state=int(x)).iloc[0])\n",
    "    return df"
   ]
  },
  {
   "cell_type": "code",
   "execution_count": 56,
   "id": "d74969d9-18ed-4837-99ac-90f58d80d9df",
   "metadata": {},
   "outputs": [],
   "source": [
    "df = random_sample_imputation(df,'amenities')"
   ]
  },
  {
   "cell_type": "code",
   "execution_count": 57,
   "id": "7d76476c-7c67-4ec1-a98c-aec09bbf969a",
   "metadata": {},
   "outputs": [
    {
     "data": {
      "text/plain": [
       "0.0"
      ]
     },
     "execution_count": 57,
     "metadata": {},
     "output_type": "execute_result"
    }
   ],
   "source": [
    "df.amenities.isna().mean()"
   ]
  },
  {
   "cell_type": "code",
   "execution_count": 58,
   "id": "a70df824-520f-4378-8690-9becf1098c18",
   "metadata": {},
   "outputs": [],
   "source": [
    "cityname_na = df.cityname.isna()"
   ]
  },
  {
   "cell_type": "code",
   "execution_count": 59,
   "id": "27e1c429-bf0d-44da-a354-a7dd161f7380",
   "metadata": {},
   "outputs": [
    {
     "data": {
      "text/plain": [
       "array(['Redondo Beach', 'Newport News', 'Raleigh', ..., 'Vestal',\n",
       "       'Albertville', 'Willow Grove'], dtype=object)"
      ]
     },
     "execution_count": 59,
     "metadata": {},
     "output_type": "execute_result"
    }
   ],
   "source": [
    "df.cityname.unique()"
   ]
  },
  {
   "cell_type": "code",
   "execution_count": 64,
   "id": "bfa297d3-5354-4c5e-a1c4-ff5785487dc0",
   "metadata": {},
   "outputs": [
    {
     "data": {
      "text/plain": [
       "5340     1.0\n",
       "5464     1.0\n",
       "5501     1.5\n",
       "5502     1.5\n",
       "5503     2.5\n",
       "        ... \n",
       "79937    2.0\n",
       "79938    2.0\n",
       "79940    1.0\n",
       "79941    1.0\n",
       "83416    1.0\n",
       "Name: bathrooms, Length: 298, dtype: float64"
      ]
     },
     "execution_count": 64,
     "metadata": {},
     "output_type": "execute_result"
    }
   ],
   "source": [
    "df[cityname_na]['bathrooms']"
   ]
  },
  {
   "cell_type": "code",
   "execution_count": 67,
   "id": "4bbfdc46-7d4b-48b5-84d6-c35400c5b54b",
   "metadata": {},
   "outputs": [],
   "source": [
    "df = random_sample_imputation(df,'cityname')"
   ]
  },
  {
   "cell_type": "code",
   "execution_count": 81,
   "id": "ce7f9a33-12a9-4edb-b626-e1b2dc982363",
   "metadata": {},
   "outputs": [
    {
     "data": {
      "text/plain": [
       "array(['San Marcos'], dtype=object)"
      ]
     },
     "execution_count": 81,
     "metadata": {},
     "output_type": "execute_result"
    }
   ],
   "source": [
    "df[cityname_na & (df.bathrooms == 1.0)]['cityname'].unique()"
   ]
  },
  {
   "cell_type": "code",
   "execution_count": 82,
   "id": "9872ed5b-3952-432e-8915-e8c1b56e4436",
   "metadata": {},
   "outputs": [
    {
     "data": {
      "text/plain": [
       "array(['San Jose'], dtype=object)"
      ]
     },
     "execution_count": 82,
     "metadata": {},
     "output_type": "execute_result"
    }
   ],
   "source": [
    "df[cityname_na & (df.bathrooms == 2.5)]['cityname'].unique()"
   ]
  }
 ],
 "metadata": {
  "kernelspec": {
   "display_name": "Python 3 (ipykernel)",
   "language": "python",
   "name": "python3"
  },
  "language_info": {
   "codemirror_mode": {
    "name": "ipython",
    "version": 3
   },
   "file_extension": ".py",
   "mimetype": "text/x-python",
   "name": "python",
   "nbconvert_exporter": "python",
   "pygments_lexer": "ipython3",
   "version": "3.12.3"
  }
 },
 "nbformat": 4,
 "nbformat_minor": 5
}
